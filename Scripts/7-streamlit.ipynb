{
 "cells": [
  {
   "cell_type": "code",
   "execution_count": 144,
   "metadata": {},
   "outputs": [],
   "source": [
    "import pandas as pd\n",
    "import seaborn as sns\n",
    "import matplotlib.pyplot as plt \n",
    "import plotly.express as px\n",
    "import numpy as np\n",
    "import re\n",
    "import streamlit as st \n",
    "import plotly.graph_objects as go\n"
   ]
  },
  {
   "cell_type": "code",
   "execution_count": 17,
   "metadata": {},
   "outputs": [],
   "source": [
    "ISH = pd.read_csv('../CleanData/ISH_summary.csv', index_col=0)\n",
    "BOM = pd.read_csv('../CleanData/BOM_summary.csv', index_col=0)\n",
    "cr_chapter = pd.read_csv('../CleanData/by_chapter_cross_ref.csv', index_col=0)\n",
    "cr_verse = pd.read_csv('../CleanData/by_verse_cross_ref.csv', index_col=0)"
   ]
  },
  {
   "cell_type": "code",
   "execution_count": 261,
   "metadata": {},
   "outputs": [],
   "source": [
    "# Data Prep \n",
    "ISH_verse_df = cr_verse.dropna(subset=['verse_title_ISH'])\n",
    "BOM_verse_df = cr_verse.dropna(subset=['verse_title_BOM'])\n",
    "# Verse comparison\n",
    "\n",
    "select_ISH_verse = \"Isaiah 1:1\"\n",
    "select_BOM_verse = '2 Nephi 6:4'\n"
   ]
  },
  {
   "cell_type": "code",
   "execution_count": 265,
   "metadata": {},
   "outputs": [
    {
     "data": {
      "text/plain": [
       "1    0.1033\n",
       "Name: Similarity Score, dtype: float64"
      ]
     },
     "execution_count": 265,
     "metadata": {},
     "output_type": "execute_result"
    }
   ],
   "source": [
    "verse_tb = cr_verse[(cr_verse['verse_title_ISH'] == select_ISH_verse) & (cr_verse['verse_title_BOM'] == select_BOM_verse)][['scripture_text_ISH', 'scripture_text_BOM', 'similarity_score', 'similarity_category', 'Duhms_Class']]\n",
    "verse_tb.columns = [select_ISH_verse, select_BOM_verse, 'Similarity Score', 'Similarity Category', \"Duhm's Category\"]\n",
    "\n",
    "verse_tb['Similarity Score'] = round(verse_tb['Similarity Score'], ndigits=4)\n",
    "verse_tb['Similarity Score']\n"
   ]
  },
  {
   "cell_type": "code",
   "execution_count": 148,
   "metadata": {},
   "outputs": [
    {
     "data": {
      "application/vnd.plotly.v1+json": {
       "config": {
        "plotlyServerURL": "https://plot.ly"
       },
       "data": [
        {
         "alignmentgroup": "True",
         "hovertemplate": "<b>Count:</b> %{y}<b>",
         "legendgroup": "Direct Quote",
         "marker": {
          "color": "#66c2a5",
          "pattern": {
           "shape": ""
          }
         },
         "name": "Direct Quote",
         "offsetgroup": "Direct Quote",
         "orientation": "v",
         "showlegend": true,
         "textposition": "auto",
         "type": "bar",
         "x": [
          "Direct Quote"
         ],
         "xaxis": "x",
         "y": [
          15
         ],
         "yaxis": "y"
        },
        {
         "alignmentgroup": "True",
         "hovertemplate": "<b>Count:</b> %{y}<b>",
         "legendgroup": "Shared Language",
         "marker": {
          "color": "#fc8d62",
          "pattern": {
           "shape": ""
          }
         },
         "name": "Shared Language",
         "offsetgroup": "Shared Language",
         "orientation": "v",
         "showlegend": true,
         "textposition": "auto",
         "type": "bar",
         "x": [
          "Shared Language"
         ],
         "xaxis": "x",
         "y": [
          4
         ],
         "yaxis": "y"
        },
        {
         "alignmentgroup": "True",
         "hovertemplate": "<b>Count:</b> %{y}<b>",
         "legendgroup": "Similar Theme",
         "marker": {
          "color": "#8da0cb",
          "pattern": {
           "shape": ""
          }
         },
         "name": "Similar Theme",
         "offsetgroup": "Similar Theme",
         "orientation": "v",
         "showlegend": true,
         "textposition": "auto",
         "type": "bar",
         "x": [
          "Similar Theme"
         ],
         "xaxis": "x",
         "y": [
          4
         ],
         "yaxis": "y"
        },
        {
         "alignmentgroup": "True",
         "hovertemplate": "<b>Count:</b> %{y}<b>",
         "legendgroup": "Bible Term",
         "marker": {
          "color": "#e78ac3",
          "pattern": {
           "shape": ""
          }
         },
         "name": "Bible Term",
         "offsetgroup": "Bible Term",
         "orientation": "v",
         "showlegend": true,
         "textposition": "auto",
         "type": "bar",
         "x": [
          "Bible Term"
         ],
         "xaxis": "x",
         "y": [
          18
         ],
         "yaxis": "y"
        },
        {
         "alignmentgroup": "True",
         "hovertemplate": "<b>Count:</b> %{y}<b>",
         "legendgroup": "Verse Count",
         "marker": {
          "color": "#a6d854",
          "pattern": {
           "shape": ""
          }
         },
         "name": "Verse Count",
         "offsetgroup": "Verse Count",
         "orientation": "v",
         "showlegend": true,
         "textposition": "auto",
         "type": "bar",
         "x": [
          "Verse Count"
         ],
         "xaxis": "x",
         "y": [
          22
         ],
         "yaxis": "y"
        }
       ],
       "layout": {
        "barmode": "relative",
        "legend": {
         "title": {
          "text": "Type"
         },
         "tracegroupgap": 0
        },
        "template": {
         "data": {
          "candlestick": [
           {
            "decreasing": {
             "line": {
              "color": "#000033"
             }
            },
            "increasing": {
             "line": {
              "color": "#000032"
             }
            },
            "type": "candlestick"
           }
          ],
          "contour": [
           {
            "colorscale": [
             [
              0,
              "#000011"
             ],
             [
              0.1111111111111111,
              "#000012"
             ],
             [
              0.2222222222222222,
              "#000013"
             ],
             [
              0.3333333333333333,
              "#000014"
             ],
             [
              0.4444444444444444,
              "#000015"
             ],
             [
              0.5555555555555556,
              "#000016"
             ],
             [
              0.6666666666666666,
              "#000017"
             ],
             [
              0.7777777777777778,
              "#000018"
             ],
             [
              0.8888888888888888,
              "#000019"
             ],
             [
              1,
              "#000020"
             ]
            ],
            "type": "contour"
           }
          ],
          "contourcarpet": [
           {
            "colorscale": [
             [
              0,
              "#000011"
             ],
             [
              0.1111111111111111,
              "#000012"
             ],
             [
              0.2222222222222222,
              "#000013"
             ],
             [
              0.3333333333333333,
              "#000014"
             ],
             [
              0.4444444444444444,
              "#000015"
             ],
             [
              0.5555555555555556,
              "#000016"
             ],
             [
              0.6666666666666666,
              "#000017"
             ],
             [
              0.7777777777777778,
              "#000018"
             ],
             [
              0.8888888888888888,
              "#000019"
             ],
             [
              1,
              "#000020"
             ]
            ],
            "type": "contourcarpet"
           }
          ],
          "heatmap": [
           {
            "colorscale": [
             [
              0,
              "#000011"
             ],
             [
              0.1111111111111111,
              "#000012"
             ],
             [
              0.2222222222222222,
              "#000013"
             ],
             [
              0.3333333333333333,
              "#000014"
             ],
             [
              0.4444444444444444,
              "#000015"
             ],
             [
              0.5555555555555556,
              "#000016"
             ],
             [
              0.6666666666666666,
              "#000017"
             ],
             [
              0.7777777777777778,
              "#000018"
             ],
             [
              0.8888888888888888,
              "#000019"
             ],
             [
              1,
              "#000020"
             ]
            ],
            "type": "heatmap"
           }
          ],
          "histogram2d": [
           {
            "colorscale": [
             [
              0,
              "#000011"
             ],
             [
              0.1111111111111111,
              "#000012"
             ],
             [
              0.2222222222222222,
              "#000013"
             ],
             [
              0.3333333333333333,
              "#000014"
             ],
             [
              0.4444444444444444,
              "#000015"
             ],
             [
              0.5555555555555556,
              "#000016"
             ],
             [
              0.6666666666666666,
              "#000017"
             ],
             [
              0.7777777777777778,
              "#000018"
             ],
             [
              0.8888888888888888,
              "#000019"
             ],
             [
              1,
              "#000020"
             ]
            ],
            "type": "histogram2d"
           }
          ],
          "icicle": [
           {
            "textfont": {
             "color": "white"
            },
            "type": "icicle"
           }
          ],
          "sankey": [
           {
            "textfont": {
             "color": "#000036"
            },
            "type": "sankey"
           }
          ],
          "scatter": [
           {
            "marker": {
             "line": {
              "width": 0
             }
            },
            "type": "scatter"
           }
          ],
          "table": [
           {
            "cells": {
             "fill": {
              "color": "#000038"
             },
             "font": {
              "color": "#000037"
             },
             "line": {
              "color": "#000039"
             }
            },
            "header": {
             "fill": {
              "color": "#000040"
             },
             "font": {
              "color": "#000036"
             },
             "line": {
              "color": "#000039"
             }
            },
            "type": "table"
           }
          ],
          "waterfall": [
           {
            "connector": {
             "line": {
              "color": "#000036",
              "width": 2
             }
            },
            "decreasing": {
             "marker": {
              "color": "#000033"
             }
            },
            "increasing": {
             "marker": {
              "color": "#000032"
             }
            },
            "totals": {
             "marker": {
              "color": "#000034"
             }
            },
            "type": "waterfall"
           }
          ]
         },
         "layout": {
          "coloraxis": {
           "colorscale": [
            [
             0,
             "#000011"
            ],
            [
             0.1111111111111111,
             "#000012"
            ],
            [
             0.2222222222222222,
             "#000013"
            ],
            [
             0.3333333333333333,
             "#000014"
            ],
            [
             0.4444444444444444,
             "#000015"
            ],
            [
             0.5555555555555556,
             "#000016"
            ],
            [
             0.6666666666666666,
             "#000017"
            ],
            [
             0.7777777777777778,
             "#000018"
            ],
            [
             0.8888888888888888,
             "#000019"
            ],
            [
             1,
             "#000020"
            ]
           ]
          },
          "colorscale": {
           "diverging": [
            [
             0,
             "#000021"
            ],
            [
             0.1,
             "#000022"
            ],
            [
             0.2,
             "#000023"
            ],
            [
             0.3,
             "#000024"
            ],
            [
             0.4,
             "#000025"
            ],
            [
             0.5,
             "#000026"
            ],
            [
             0.6,
             "#000027"
            ],
            [
             0.7,
             "#000028"
            ],
            [
             0.8,
             "#000029"
            ],
            [
             0.9,
             "#000030"
            ],
            [
             1,
             "#000031"
            ]
           ],
           "sequential": [
            [
             0,
             "#000011"
            ],
            [
             0.1111111111111111,
             "#000012"
            ],
            [
             0.2222222222222222,
             "#000013"
            ],
            [
             0.3333333333333333,
             "#000014"
            ],
            [
             0.4444444444444444,
             "#000015"
            ],
            [
             0.5555555555555556,
             "#000016"
            ],
            [
             0.6666666666666666,
             "#000017"
            ],
            [
             0.7777777777777778,
             "#000018"
            ],
            [
             0.8888888888888888,
             "#000019"
            ],
            [
             1,
             "#000020"
            ]
           ],
           "sequentialminus": [
            [
             0,
             "#000011"
            ],
            [
             0.1111111111111111,
             "#000012"
            ],
            [
             0.2222222222222222,
             "#000013"
            ],
            [
             0.3333333333333333,
             "#000014"
            ],
            [
             0.4444444444444444,
             "#000015"
            ],
            [
             0.5555555555555556,
             "#000016"
            ],
            [
             0.6666666666666666,
             "#000017"
            ],
            [
             0.7777777777777778,
             "#000018"
            ],
            [
             0.8888888888888888,
             "#000019"
            ],
            [
             1,
             "#000020"
            ]
           ]
          },
          "colorway": [
           "#000001",
           "#000002",
           "#000003",
           "#000004",
           "#000005",
           "#000006",
           "#000007",
           "#000008",
           "#000009",
           "#000010"
          ]
         }
        },
        "title": {
         "text": "Summary of Isaiah 2"
        },
        "xaxis": {
         "anchor": "y",
         "categoryarray": [
          "Direct Quote",
          "Shared Language",
          "Similar Theme",
          "Bible Term",
          "Verse Count"
         ],
         "categoryorder": "array",
         "domain": [
          0,
          1
         ],
         "title": {
          "text": "Type"
         }
        },
        "yaxis": {
         "anchor": "x",
         "domain": [
          0,
          1
         ],
         "title": {
          "text": "Count"
         }
        }
       }
      }
     },
     "metadata": {},
     "output_type": "display_data"
    }
   ],
   "source": [
    "# Select Isaiah Chapter\n",
    "select_chapter_number = \"Isaiah 2\"\n",
    "ch_num = int(re.search(r'\\d+', select_chapter_number).group())\n",
    "\n",
    "# Create bar data\n",
    "ISH_ch = ISH[ISH['combo_ISH'] == select_chapter_number].rename({'bible_term_in_ISH': \"Bible Term\", 'verse_count_ISH': \"Verse Count\"}, axis=1).melt(\n",
    "    id_vars=['combo_ISH', 'chapter_number_ISH'],\n",
    "    value_vars=['Direct Quote', 'Shared Language', 'Similar Theme', 'Bible Term', 'Verse Count'],\n",
    "    var_name='Type', value_name='Count'\n",
    ")\n",
    "\n",
    "# custom palatte mapping from SET2 in seaborn\n",
    "pal = sns.color_palette('Set2').as_hex()\n",
    "colors = [pal[i] for i in range(5)]\n",
    "\n",
    "color_mapping={\n",
    "        'Direct Quote': colors[0],\n",
    "        'Shared Language': colors[1],\n",
    "        'Similar Theme': colors[2],\n",
    "        'Bible Term': colors[3],\n",
    "        'Verse Count': colors[4]\n",
    "    }\n",
    "\n",
    "# Generate bar data\n",
    "bar = px.bar(data_frame=ISH_ch, x='Type', y='Count', color = 'Type', title=f\"Summary of {select_chapter_number}\", color_discrete_map=color_mapping)\n",
    "\n",
    "hovertemplate = '<b>Count:</b> %{y}<b>'\n",
    "\n",
    "bar.update_traces(\n",
    "    hovertemplate=hovertemplate,\n",
    ")\n",
    "\n",
    "bar.show()\n",
    "\n",
    "\n",
    "\n"
   ]
  },
  {
   "cell_type": "code",
   "execution_count": 239,
   "metadata": {},
   "outputs": [
    {
     "data": {
      "application/vnd.plotly.v1+json": {
       "config": {
        "plotlyServerURL": "https://plot.ly"
       },
       "data": [
        {
         "alignmentgroup": "True",
         "hovertemplate": "<b>Count:</b> %{y}<b>",
         "legendgroup": "Direct Quote",
         "marker": {
          "color": "#66c2a5",
          "pattern": {
           "shape": ""
          }
         },
         "name": "Direct Quote",
         "offsetgroup": "Direct Quote",
         "orientation": "v",
         "showlegend": true,
         "textposition": "auto",
         "type": "bar",
         "x": [
          "Direct Quote"
         ],
         "xaxis": "x",
         "y": [
          0
         ],
         "yaxis": "y"
        },
        {
         "alignmentgroup": "True",
         "hovertemplate": "<b>Count:</b> %{y}<b>",
         "legendgroup": "Shared Language",
         "marker": {
          "color": "#fc8d62",
          "pattern": {
           "shape": ""
          }
         },
         "name": "Shared Language",
         "offsetgroup": "Shared Language",
         "orientation": "v",
         "showlegend": true,
         "textposition": "auto",
         "type": "bar",
         "x": [
          "Shared Language"
         ],
         "xaxis": "x",
         "y": [
          0
         ],
         "yaxis": "y"
        },
        {
         "alignmentgroup": "True",
         "hovertemplate": "<b>Count:</b> %{y}<b>",
         "legendgroup": "Similar Theme",
         "marker": {
          "color": "#8da0cb",
          "pattern": {
           "shape": ""
          }
         },
         "name": "Similar Theme",
         "offsetgroup": "Similar Theme",
         "orientation": "v",
         "showlegend": true,
         "textposition": "auto",
         "type": "bar",
         "x": [
          "Similar Theme"
         ],
         "xaxis": "x",
         "y": [
          0
         ],
         "yaxis": "y"
        },
        {
         "alignmentgroup": "True",
         "hovertemplate": "<b>Count:</b> %{y}<b>",
         "legendgroup": "Bible Term",
         "marker": {
          "color": "#e78ac3",
          "pattern": {
           "shape": ""
          }
         },
         "name": "Bible Term",
         "offsetgroup": "Bible Term",
         "orientation": "v",
         "showlegend": true,
         "textposition": "auto",
         "type": "bar",
         "x": [
          "Bible Term"
         ],
         "xaxis": "x",
         "y": [
          21
         ],
         "yaxis": "y"
        },
        {
         "alignmentgroup": "True",
         "hovertemplate": "<b>Count:</b> %{y}<b>",
         "legendgroup": "Verse Count",
         "marker": {
          "color": "#a6d854",
          "pattern": {
           "shape": ""
          }
         },
         "name": "Verse Count",
         "offsetgroup": "Verse Count",
         "orientation": "v",
         "showlegend": true,
         "textposition": "auto",
         "type": "bar",
         "x": [
          "Verse Count"
         ],
         "xaxis": "x",
         "y": [
          25
         ],
         "yaxis": "y"
        }
       ],
       "layout": {
        "barmode": "relative",
        "legend": {
         "title": {},
         "tracegroupgap": 0
        },
        "template": {
         "data": {
          "candlestick": [
           {
            "decreasing": {
             "line": {
              "color": "#000033"
             }
            },
            "increasing": {
             "line": {
              "color": "#000032"
             }
            },
            "type": "candlestick"
           }
          ],
          "contour": [
           {
            "colorscale": [
             [
              0,
              "#000011"
             ],
             [
              0.1111111111111111,
              "#000012"
             ],
             [
              0.2222222222222222,
              "#000013"
             ],
             [
              0.3333333333333333,
              "#000014"
             ],
             [
              0.4444444444444444,
              "#000015"
             ],
             [
              0.5555555555555556,
              "#000016"
             ],
             [
              0.6666666666666666,
              "#000017"
             ],
             [
              0.7777777777777778,
              "#000018"
             ],
             [
              0.8888888888888888,
              "#000019"
             ],
             [
              1,
              "#000020"
             ]
            ],
            "type": "contour"
           }
          ],
          "contourcarpet": [
           {
            "colorscale": [
             [
              0,
              "#000011"
             ],
             [
              0.1111111111111111,
              "#000012"
             ],
             [
              0.2222222222222222,
              "#000013"
             ],
             [
              0.3333333333333333,
              "#000014"
             ],
             [
              0.4444444444444444,
              "#000015"
             ],
             [
              0.5555555555555556,
              "#000016"
             ],
             [
              0.6666666666666666,
              "#000017"
             ],
             [
              0.7777777777777778,
              "#000018"
             ],
             [
              0.8888888888888888,
              "#000019"
             ],
             [
              1,
              "#000020"
             ]
            ],
            "type": "contourcarpet"
           }
          ],
          "heatmap": [
           {
            "colorscale": [
             [
              0,
              "#000011"
             ],
             [
              0.1111111111111111,
              "#000012"
             ],
             [
              0.2222222222222222,
              "#000013"
             ],
             [
              0.3333333333333333,
              "#000014"
             ],
             [
              0.4444444444444444,
              "#000015"
             ],
             [
              0.5555555555555556,
              "#000016"
             ],
             [
              0.6666666666666666,
              "#000017"
             ],
             [
              0.7777777777777778,
              "#000018"
             ],
             [
              0.8888888888888888,
              "#000019"
             ],
             [
              1,
              "#000020"
             ]
            ],
            "type": "heatmap"
           }
          ],
          "histogram2d": [
           {
            "colorscale": [
             [
              0,
              "#000011"
             ],
             [
              0.1111111111111111,
              "#000012"
             ],
             [
              0.2222222222222222,
              "#000013"
             ],
             [
              0.3333333333333333,
              "#000014"
             ],
             [
              0.4444444444444444,
              "#000015"
             ],
             [
              0.5555555555555556,
              "#000016"
             ],
             [
              0.6666666666666666,
              "#000017"
             ],
             [
              0.7777777777777778,
              "#000018"
             ],
             [
              0.8888888888888888,
              "#000019"
             ],
             [
              1,
              "#000020"
             ]
            ],
            "type": "histogram2d"
           }
          ],
          "icicle": [
           {
            "textfont": {
             "color": "white"
            },
            "type": "icicle"
           }
          ],
          "sankey": [
           {
            "textfont": {
             "color": "#000036"
            },
            "type": "sankey"
           }
          ],
          "scatter": [
           {
            "marker": {
             "line": {
              "width": 0
             }
            },
            "type": "scatter"
           }
          ],
          "table": [
           {
            "cells": {
             "fill": {
              "color": "#000038"
             },
             "font": {
              "color": "#000037"
             },
             "line": {
              "color": "#000039"
             }
            },
            "header": {
             "fill": {
              "color": "#000040"
             },
             "font": {
              "color": "#000036"
             },
             "line": {
              "color": "#000039"
             }
            },
            "type": "table"
           }
          ],
          "waterfall": [
           {
            "connector": {
             "line": {
              "color": "#000036",
              "width": 2
             }
            },
            "decreasing": {
             "marker": {
              "color": "#000033"
             }
            },
            "increasing": {
             "marker": {
              "color": "#000032"
             }
            },
            "totals": {
             "marker": {
              "color": "#000034"
             }
            },
            "type": "waterfall"
           }
          ]
         },
         "layout": {
          "coloraxis": {
           "colorscale": [
            [
             0,
             "#000011"
            ],
            [
             0.1111111111111111,
             "#000012"
            ],
            [
             0.2222222222222222,
             "#000013"
            ],
            [
             0.3333333333333333,
             "#000014"
            ],
            [
             0.4444444444444444,
             "#000015"
            ],
            [
             0.5555555555555556,
             "#000016"
            ],
            [
             0.6666666666666666,
             "#000017"
            ],
            [
             0.7777777777777778,
             "#000018"
            ],
            [
             0.8888888888888888,
             "#000019"
            ],
            [
             1,
             "#000020"
            ]
           ]
          },
          "colorscale": {
           "diverging": [
            [
             0,
             "#000021"
            ],
            [
             0.1,
             "#000022"
            ],
            [
             0.2,
             "#000023"
            ],
            [
             0.3,
             "#000024"
            ],
            [
             0.4,
             "#000025"
            ],
            [
             0.5,
             "#000026"
            ],
            [
             0.6,
             "#000027"
            ],
            [
             0.7,
             "#000028"
            ],
            [
             0.8,
             "#000029"
            ],
            [
             0.9,
             "#000030"
            ],
            [
             1,
             "#000031"
            ]
           ],
           "sequential": [
            [
             0,
             "#000011"
            ],
            [
             0.1111111111111111,
             "#000012"
            ],
            [
             0.2222222222222222,
             "#000013"
            ],
            [
             0.3333333333333333,
             "#000014"
            ],
            [
             0.4444444444444444,
             "#000015"
            ],
            [
             0.5555555555555556,
             "#000016"
            ],
            [
             0.6666666666666666,
             "#000017"
            ],
            [
             0.7777777777777778,
             "#000018"
            ],
            [
             0.8888888888888888,
             "#000019"
            ],
            [
             1,
             "#000020"
            ]
           ],
           "sequentialminus": [
            [
             0,
             "#000011"
            ],
            [
             0.1111111111111111,
             "#000012"
            ],
            [
             0.2222222222222222,
             "#000013"
            ],
            [
             0.3333333333333333,
             "#000014"
            ],
            [
             0.4444444444444444,
             "#000015"
            ],
            [
             0.5555555555555556,
             "#000016"
            ],
            [
             0.6666666666666666,
             "#000017"
            ],
            [
             0.7777777777777778,
             "#000018"
            ],
            [
             0.8888888888888888,
             "#000019"
            ],
            [
             1,
             "#000020"
            ]
           ]
          },
          "colorway": [
           "#000001",
           "#000002",
           "#000003",
           "#000004",
           "#000005",
           "#000006",
           "#000007",
           "#000008",
           "#000009",
           "#000010"
          ]
         }
        },
        "title": {
         "text": "Summary of 1 Nephi 18"
        },
        "xaxis": {
         "anchor": "y",
         "categoryarray": [
          "Direct Quote",
          "Shared Language",
          "Similar Theme",
          "Bible Term",
          "Verse Count"
         ],
         "categoryorder": "array",
         "domain": [
          0,
          1
         ],
         "title": {}
        },
        "yaxis": {
         "anchor": "x",
         "domain": [
          0,
          1
         ],
         "title": {
          "text": "Count"
         }
        }
       }
      }
     },
     "metadata": {},
     "output_type": "display_data"
    }
   ],
   "source": [
    "\n",
    "select_book = '1 Nephi'\n",
    "\n",
    "# Select Isaiah Chapter\n",
    "if select_book == \"Isaiah\":\n",
    "    select_chapter_number = \"Isaiah 2\"\n",
    "\n",
    "    # Create bar data\n",
    "    ch_data = ISH[ISH['combo_ISH'] == select_chapter_number].rename({'bible_term_in_ISH': \"Bible Term\", 'verse_count_ISH': \"Verse Count\"}, axis=1).melt(\n",
    "        id_vars=['combo_ISH', 'chapter_number_ISH'],\n",
    "        value_vars=['Direct Quote', 'Shared Language', 'Similar Theme', 'Bible Term', 'Verse Count'],\n",
    "        var_name='Type', value_name='Count')\n",
    "\n",
    "# Select BOM Chapter\n",
    "else: \n",
    "    select_chapter_number = '1 Nephi 18'\n",
    "\n",
    "    # Create bar data\n",
    "    ch_data = BOM[BOM['combo_BOM'] == select_chapter_number].rename({'bible_term_in_BOM': \"Bible Term\", 'verse_count_BOM': \"Verse Count\"}, axis=1).melt(\n",
    "        id_vars=['combo_BOM', 'chapter_number_BOM'],\n",
    "        value_vars=['Direct Quote', 'Shared Language', 'Similar Theme', 'Bible Term', 'Verse Count'],\n",
    "        var_name='Type', value_name='Count')\n",
    "\n",
    "ch_num = int(re.findall(r'\\d+', select_chapter_number)[-1])\n",
    "\n",
    "# custom palatte mapping from SET2 in seaborn\n",
    "pal = sns.color_palette('Set2').as_hex()\n",
    "colors = [pal[i] for i in range(5)]\n",
    "\n",
    "color_mapping={\n",
    "        'Direct Quote': colors[0],\n",
    "        'Shared Language': colors[1],\n",
    "        'Similar Theme': colors[2],\n",
    "        'Bible Term': colors[3],\n",
    "        'Verse Count': colors[4]\n",
    "    }\n",
    "\n",
    "# Generate bar data\n",
    "bar = px.bar(data_frame=ch_data, x='Type', y='Count', color = 'Type', title=f\"Summary of {select_chapter_number}\", color_discrete_map=color_mapping)\n",
    "\n",
    "hovertemplate = '<b>Count:</b> %{y}<b>'\n",
    "bar.update_layout(xaxis_title=None, legend_title = None)\n",
    "\n",
    "bar.update_traces(\n",
    "    hovertemplate=hovertemplate,\n",
    ")\n",
    "\n",
    "bar"
   ]
  },
  {
   "cell_type": "code",
   "execution_count": 220,
   "metadata": {},
   "outputs": [],
   "source": [
    "# table data\n",
    "if select_book == \"Isaiah\":\n",
    "    cr_ch = cr_verse[cr_verse['chapter_number_ISH'] == ch_num]\n",
    "    DQ = cr_ch[cr_ch['similarity_category'] == \"Direct Quote\"]['verse_title_BOM'].reset_index(drop=True)\n",
    "    SL = cr_ch[cr_ch['similarity_category'] == \"Shared Language\"]['verse_title_BOM'].reset_index(drop=True)\n",
    "    ST = cr_ch[cr_ch['similarity_category'] == \"Similar Theme\"]['verse_title_BOM'].reset_index(drop=True)\n",
    "    BT = cr_ch[cr_ch['bible_term_in_ISH'] == True].sort_values('verse_number_ISH')['verse_title_ISH'].reset_index(drop=True).drop_duplicates()\n",
    "\n",
    "    ch_tb = pd.concat([DQ, SL, ST, BT], axis=1).reset_index(drop=True).fillna('-')\n",
    "    ch_tb.columns = ['Direct Quote', 'Shared Language', 'Similar Theme', 'Bible Term Verses']\n",
    "\n",
    "\n",
    "else:\n",
    "    cr_ch = cr_verse[(cr_verse['chapter_number_BOM'] == ch_num) & (cr_verse['book_title_BOM'] == select_book)]\n",
    "    DQ = cr_ch[cr_ch['similarity_category'] == \"Direct Quote\"]['verse_title_ISH'].reset_index(drop=True)\n",
    "    SL = cr_ch[cr_ch['similarity_category'] == \"Shared Language\"]['verse_title_ISH'].reset_index(drop=True)\n",
    "    ST = cr_ch[cr_ch['similarity_category'] == \"Similar Theme\"]['verse_title_ISH'].reset_index(drop=True)\n",
    "    BT = cr_ch[cr_ch['bible_term_in_BOM'] == True].sort_values('verse_number_BOM')['verse_title_BOM'].reset_index(drop=True).drop_duplicates()\n",
    "\n",
    "    ch_tb = pd.concat([DQ, SL, ST, BT], axis=1).reset_index(drop=True).fillna('-')\n",
    "    ch_tb.columns = ['Direct Quote', 'Shared Language', 'Similar Theme', 'Bible Term Verses']\n"
   ]
  },
  {
   "cell_type": "code",
   "execution_count": 271,
   "metadata": {},
   "outputs": [
    {
     "data": {
      "text/html": [
       "<div>\n",
       "<style scoped>\n",
       "    .dataframe tbody tr th:only-of-type {\n",
       "        vertical-align: middle;\n",
       "    }\n",
       "\n",
       "    .dataframe tbody tr th {\n",
       "        vertical-align: top;\n",
       "    }\n",
       "\n",
       "    .dataframe thead th {\n",
       "        text-align: right;\n",
       "    }\n",
       "</style>\n",
       "<table border=\"1\" class=\"dataframe\">\n",
       "  <thead>\n",
       "    <tr style=\"text-align: right;\">\n",
       "      <th></th>\n",
       "      <th>verse_title_ISH</th>\n",
       "      <th>book_title_ISH</th>\n",
       "      <th>chapter_number_ISH</th>\n",
       "      <th>verse_number_ISH</th>\n",
       "      <th>scripture_text_ISH</th>\n",
       "      <th>verse_title_BOM</th>\n",
       "      <th>book_title_BOM</th>\n",
       "      <th>chapter_number_BOM</th>\n",
       "      <th>verse_number_BOM</th>\n",
       "      <th>scripture_text_BOM</th>\n",
       "      <th>scripture_cleaned_ISH</th>\n",
       "      <th>scripture_cleaned_BOM</th>\n",
       "      <th>similarity_score</th>\n",
       "      <th>similarity_category</th>\n",
       "      <th>word_count_ISH</th>\n",
       "      <th>word_count_BOM</th>\n",
       "      <th>bible_term_in_ISH</th>\n",
       "      <th>bible_term_in_BOM</th>\n",
       "      <th>Duhms_Class</th>\n",
       "    </tr>\n",
       "  </thead>\n",
       "  <tbody>\n",
       "    <tr>\n",
       "      <th>0</th>\n",
       "      <td>Isaiah 1:1</td>\n",
       "      <td>Isaiah</td>\n",
       "      <td>1.0</td>\n",
       "      <td>1.0</td>\n",
       "      <td>THE vision of Isaiah the son of Amoz, which he...</td>\n",
       "      <td>1 Nephi 19:23</td>\n",
       "      <td>1 Nephi</td>\n",
       "      <td>19.0</td>\n",
       "      <td>23.0</td>\n",
       "      <td>And I did read many things unto them which wer...</td>\n",
       "      <td>vision isaiah son amoz saw concerning judah je...</td>\n",
       "      <td>read many things unto written books moses migh...</td>\n",
       "      <td>0.051640</td>\n",
       "      <td>Similar Theme</td>\n",
       "      <td>27</td>\n",
       "      <td>61</td>\n",
       "      <td>True</td>\n",
       "      <td>True</td>\n",
       "      <td>Proto</td>\n",
       "    </tr>\n",
       "    <tr>\n",
       "      <th>1</th>\n",
       "      <td>Isaiah 1:1</td>\n",
       "      <td>Isaiah</td>\n",
       "      <td>1.0</td>\n",
       "      <td>1.0</td>\n",
       "      <td>THE vision of Isaiah the son of Amoz, which he...</td>\n",
       "      <td>2 Nephi 6:4</td>\n",
       "      <td>2 Nephi</td>\n",
       "      <td>6.0</td>\n",
       "      <td>4.0</td>\n",
       "      <td>And now, behold, I would speak unto you concer...</td>\n",
       "      <td>vision isaiah son amoz saw concerning judah je...</td>\n",
       "      <td>behold would speak unto concerning things come...</td>\n",
       "      <td>0.103280</td>\n",
       "      <td>Similar Theme</td>\n",
       "      <td>27</td>\n",
       "      <td>61</td>\n",
       "      <td>True</td>\n",
       "      <td>True</td>\n",
       "      <td>Proto</td>\n",
       "    </tr>\n",
       "    <tr>\n",
       "      <th>2</th>\n",
       "      <td>Isaiah 1:1</td>\n",
       "      <td>Isaiah</td>\n",
       "      <td>1.0</td>\n",
       "      <td>1.0</td>\n",
       "      <td>THE vision of Isaiah the son of Amoz, which he...</td>\n",
       "      <td>2 Nephi 11:8</td>\n",
       "      <td>2 Nephi</td>\n",
       "      <td>11.0</td>\n",
       "      <td>8.0</td>\n",
       "      <td>And now I write some of the words of Isaiah, t...</td>\n",
       "      <td>vision isaiah son amoz saw concerning judah je...</td>\n",
       "      <td>write words isaiah whoso people shall see word...</td>\n",
       "      <td>0.057735</td>\n",
       "      <td>Similar Theme</td>\n",
       "      <td>27</td>\n",
       "      <td>45</td>\n",
       "      <td>True</td>\n",
       "      <td>True</td>\n",
       "      <td>Proto</td>\n",
       "    </tr>\n",
       "    <tr>\n",
       "      <th>3</th>\n",
       "      <td>Isaiah 1:1</td>\n",
       "      <td>Isaiah</td>\n",
       "      <td>1.0</td>\n",
       "      <td>1.0</td>\n",
       "      <td>THE vision of Isaiah the son of Amoz, which he...</td>\n",
       "      <td>2 Nephi 25:1</td>\n",
       "      <td>2 Nephi</td>\n",
       "      <td>25.0</td>\n",
       "      <td>1.0</td>\n",
       "      <td>Now I, Nephi, do speak somewhat concerning the...</td>\n",
       "      <td>vision isaiah son amoz saw concerning judah je...</td>\n",
       "      <td>nephi speak somewhat concerning words written ...</td>\n",
       "      <td>0.105409</td>\n",
       "      <td>Similar Theme</td>\n",
       "      <td>27</td>\n",
       "      <td>50</td>\n",
       "      <td>True</td>\n",
       "      <td>True</td>\n",
       "      <td>Proto</td>\n",
       "    </tr>\n",
       "    <tr>\n",
       "      <th>4</th>\n",
       "      <td>Isaiah 1:1</td>\n",
       "      <td>Isaiah</td>\n",
       "      <td>1.0</td>\n",
       "      <td>1.0</td>\n",
       "      <td>THE vision of Isaiah the son of Amoz, which he...</td>\n",
       "      <td>3 Nephi 20:11</td>\n",
       "      <td>3 Nephi</td>\n",
       "      <td>20.0</td>\n",
       "      <td>11.0</td>\n",
       "      <td>Ye remember that I spake unto you, and said th...</td>\n",
       "      <td>vision isaiah son amoz saw concerning judah je...</td>\n",
       "      <td>ye remember spake unto said words isaiah fulfi...</td>\n",
       "      <td>0.071611</td>\n",
       "      <td>Similar Theme</td>\n",
       "      <td>27</td>\n",
       "      <td>29</td>\n",
       "      <td>True</td>\n",
       "      <td>True</td>\n",
       "      <td>Proto</td>\n",
       "    </tr>\n",
       "    <tr>\n",
       "      <th>...</th>\n",
       "      <td>...</td>\n",
       "      <td>...</td>\n",
       "      <td>...</td>\n",
       "      <td>...</td>\n",
       "      <td>...</td>\n",
       "      <td>...</td>\n",
       "      <td>...</td>\n",
       "      <td>...</td>\n",
       "      <td>...</td>\n",
       "      <td>...</td>\n",
       "      <td>...</td>\n",
       "      <td>...</td>\n",
       "      <td>...</td>\n",
       "      <td>...</td>\n",
       "      <td>...</td>\n",
       "      <td>...</td>\n",
       "      <td>...</td>\n",
       "      <td>...</td>\n",
       "      <td>...</td>\n",
       "    </tr>\n",
       "    <tr>\n",
       "      <th>7475</th>\n",
       "      <td>NaN</td>\n",
       "      <td>NaN</td>\n",
       "      <td>NaN</td>\n",
       "      <td>NaN</td>\n",
       "      <td>NaN</td>\n",
       "      <td>Moroni 10:29</td>\n",
       "      <td>Moroni</td>\n",
       "      <td>10.0</td>\n",
       "      <td>29.0</td>\n",
       "      <td>And God shall show unto you, that that which I...</td>\n",
       "      <td>NaN</td>\n",
       "      <td>god shall show unto written true</td>\n",
       "      <td>0.000000</td>\n",
       "      <td>NaN</td>\n",
       "      <td>0</td>\n",
       "      <td>14</td>\n",
       "      <td>False</td>\n",
       "      <td>True</td>\n",
       "      <td>NaN</td>\n",
       "    </tr>\n",
       "    <tr>\n",
       "      <th>7476</th>\n",
       "      <td>NaN</td>\n",
       "      <td>NaN</td>\n",
       "      <td>NaN</td>\n",
       "      <td>NaN</td>\n",
       "      <td>NaN</td>\n",
       "      <td>Moroni 10:30</td>\n",
       "      <td>Moroni</td>\n",
       "      <td>10.0</td>\n",
       "      <td>30.0</td>\n",
       "      <td>And again I would exhort you that ye would com...</td>\n",
       "      <td>NaN</td>\n",
       "      <td>would exhort ye would come unto christ lay hol...</td>\n",
       "      <td>0.000000</td>\n",
       "      <td>NaN</td>\n",
       "      <td>0</td>\n",
       "      <td>29</td>\n",
       "      <td>False</td>\n",
       "      <td>True</td>\n",
       "      <td>NaN</td>\n",
       "    </tr>\n",
       "    <tr>\n",
       "      <th>7477</th>\n",
       "      <td>NaN</td>\n",
       "      <td>NaN</td>\n",
       "      <td>NaN</td>\n",
       "      <td>NaN</td>\n",
       "      <td>NaN</td>\n",
       "      <td>Moroni 10:32</td>\n",
       "      <td>Moroni</td>\n",
       "      <td>10.0</td>\n",
       "      <td>32.0</td>\n",
       "      <td>Yea, come unto Christ, and be perfected in him...</td>\n",
       "      <td>NaN</td>\n",
       "      <td>yea come unto christ perfected deny ungodlines...</td>\n",
       "      <td>0.000000</td>\n",
       "      <td>NaN</td>\n",
       "      <td>0</td>\n",
       "      <td>72</td>\n",
       "      <td>False</td>\n",
       "      <td>True</td>\n",
       "      <td>NaN</td>\n",
       "    </tr>\n",
       "    <tr>\n",
       "      <th>7478</th>\n",
       "      <td>NaN</td>\n",
       "      <td>NaN</td>\n",
       "      <td>NaN</td>\n",
       "      <td>NaN</td>\n",
       "      <td>NaN</td>\n",
       "      <td>Moroni 10:33</td>\n",
       "      <td>Moroni</td>\n",
       "      <td>10.0</td>\n",
       "      <td>33.0</td>\n",
       "      <td>And again, if ye by the grace of God are perfe...</td>\n",
       "      <td>NaN</td>\n",
       "      <td>ye grace god perfect christ deny power ye sanc...</td>\n",
       "      <td>0.000000</td>\n",
       "      <td>NaN</td>\n",
       "      <td>0</td>\n",
       "      <td>57</td>\n",
       "      <td>False</td>\n",
       "      <td>True</td>\n",
       "      <td>NaN</td>\n",
       "    </tr>\n",
       "    <tr>\n",
       "      <th>7479</th>\n",
       "      <td>NaN</td>\n",
       "      <td>NaN</td>\n",
       "      <td>NaN</td>\n",
       "      <td>NaN</td>\n",
       "      <td>NaN</td>\n",
       "      <td>Moroni 10:34</td>\n",
       "      <td>Moroni</td>\n",
       "      <td>10.0</td>\n",
       "      <td>34.0</td>\n",
       "      <td>And now I bid unto all, farewell. I soon go to...</td>\n",
       "      <td>NaN</td>\n",
       "      <td>bid unto farewell soon go rest paradise god sp...</td>\n",
       "      <td>0.000000</td>\n",
       "      <td>NaN</td>\n",
       "      <td>0</td>\n",
       "      <td>54</td>\n",
       "      <td>False</td>\n",
       "      <td>True</td>\n",
       "      <td>NaN</td>\n",
       "    </tr>\n",
       "  </tbody>\n",
       "</table>\n",
       "<p>7480 rows × 19 columns</p>\n",
       "</div>"
      ],
      "text/plain": [
       "     verse_title_ISH book_title_ISH  chapter_number_ISH  verse_number_ISH  \\\n",
       "0         Isaiah 1:1         Isaiah                 1.0               1.0   \n",
       "1         Isaiah 1:1         Isaiah                 1.0               1.0   \n",
       "2         Isaiah 1:1         Isaiah                 1.0               1.0   \n",
       "3         Isaiah 1:1         Isaiah                 1.0               1.0   \n",
       "4         Isaiah 1:1         Isaiah                 1.0               1.0   \n",
       "...              ...            ...                 ...               ...   \n",
       "7475             NaN            NaN                 NaN               NaN   \n",
       "7476             NaN            NaN                 NaN               NaN   \n",
       "7477             NaN            NaN                 NaN               NaN   \n",
       "7478             NaN            NaN                 NaN               NaN   \n",
       "7479             NaN            NaN                 NaN               NaN   \n",
       "\n",
       "                                     scripture_text_ISH verse_title_BOM  \\\n",
       "0     THE vision of Isaiah the son of Amoz, which he...   1 Nephi 19:23   \n",
       "1     THE vision of Isaiah the son of Amoz, which he...     2 Nephi 6:4   \n",
       "2     THE vision of Isaiah the son of Amoz, which he...    2 Nephi 11:8   \n",
       "3     THE vision of Isaiah the son of Amoz, which he...    2 Nephi 25:1   \n",
       "4     THE vision of Isaiah the son of Amoz, which he...   3 Nephi 20:11   \n",
       "...                                                 ...             ...   \n",
       "7475                                                NaN    Moroni 10:29   \n",
       "7476                                                NaN    Moroni 10:30   \n",
       "7477                                                NaN    Moroni 10:32   \n",
       "7478                                                NaN    Moroni 10:33   \n",
       "7479                                                NaN    Moroni 10:34   \n",
       "\n",
       "     book_title_BOM  chapter_number_BOM  verse_number_BOM  \\\n",
       "0           1 Nephi                19.0              23.0   \n",
       "1           2 Nephi                 6.0               4.0   \n",
       "2           2 Nephi                11.0               8.0   \n",
       "3           2 Nephi                25.0               1.0   \n",
       "4           3 Nephi                20.0              11.0   \n",
       "...             ...                 ...               ...   \n",
       "7475         Moroni                10.0              29.0   \n",
       "7476         Moroni                10.0              30.0   \n",
       "7477         Moroni                10.0              32.0   \n",
       "7478         Moroni                10.0              33.0   \n",
       "7479         Moroni                10.0              34.0   \n",
       "\n",
       "                                     scripture_text_BOM  \\\n",
       "0     And I did read many things unto them which wer...   \n",
       "1     And now, behold, I would speak unto you concer...   \n",
       "2     And now I write some of the words of Isaiah, t...   \n",
       "3     Now I, Nephi, do speak somewhat concerning the...   \n",
       "4     Ye remember that I spake unto you, and said th...   \n",
       "...                                                 ...   \n",
       "7475  And God shall show unto you, that that which I...   \n",
       "7476  And again I would exhort you that ye would com...   \n",
       "7477  Yea, come unto Christ, and be perfected in him...   \n",
       "7478  And again, if ye by the grace of God are perfe...   \n",
       "7479  And now I bid unto all, farewell. I soon go to...   \n",
       "\n",
       "                                  scripture_cleaned_ISH  \\\n",
       "0     vision isaiah son amoz saw concerning judah je...   \n",
       "1     vision isaiah son amoz saw concerning judah je...   \n",
       "2     vision isaiah son amoz saw concerning judah je...   \n",
       "3     vision isaiah son amoz saw concerning judah je...   \n",
       "4     vision isaiah son amoz saw concerning judah je...   \n",
       "...                                                 ...   \n",
       "7475                                                NaN   \n",
       "7476                                                NaN   \n",
       "7477                                                NaN   \n",
       "7478                                                NaN   \n",
       "7479                                                NaN   \n",
       "\n",
       "                                  scripture_cleaned_BOM  similarity_score  \\\n",
       "0     read many things unto written books moses migh...          0.051640   \n",
       "1     behold would speak unto concerning things come...          0.103280   \n",
       "2     write words isaiah whoso people shall see word...          0.057735   \n",
       "3     nephi speak somewhat concerning words written ...          0.105409   \n",
       "4     ye remember spake unto said words isaiah fulfi...          0.071611   \n",
       "...                                                 ...               ...   \n",
       "7475                   god shall show unto written true          0.000000   \n",
       "7476  would exhort ye would come unto christ lay hol...          0.000000   \n",
       "7477  yea come unto christ perfected deny ungodlines...          0.000000   \n",
       "7478  ye grace god perfect christ deny power ye sanc...          0.000000   \n",
       "7479  bid unto farewell soon go rest paradise god sp...          0.000000   \n",
       "\n",
       "     similarity_category  word_count_ISH  word_count_BOM  bible_term_in_ISH  \\\n",
       "0          Similar Theme              27              61               True   \n",
       "1          Similar Theme              27              61               True   \n",
       "2          Similar Theme              27              45               True   \n",
       "3          Similar Theme              27              50               True   \n",
       "4          Similar Theme              27              29               True   \n",
       "...                  ...             ...             ...                ...   \n",
       "7475                 NaN               0              14              False   \n",
       "7476                 NaN               0              29              False   \n",
       "7477                 NaN               0              72              False   \n",
       "7478                 NaN               0              57              False   \n",
       "7479                 NaN               0              54              False   \n",
       "\n",
       "      bible_term_in_BOM Duhms_Class  \n",
       "0                  True       Proto  \n",
       "1                  True       Proto  \n",
       "2                  True       Proto  \n",
       "3                  True       Proto  \n",
       "4                  True       Proto  \n",
       "...                 ...         ...  \n",
       "7475               True         NaN  \n",
       "7476               True         NaN  \n",
       "7477               True         NaN  \n",
       "7478               True         NaN  \n",
       "7479               True         NaN  \n",
       "\n",
       "[7480 rows x 19 columns]"
      ]
     },
     "execution_count": 271,
     "metadata": {},
     "output_type": "execute_result"
    }
   ],
   "source": [
    "# st.markdown(ch_tb.style.hide(axis=\"index\").to_html(), unsafe_allow_html=True)\n",
    "cr_verse"
   ]
  }
 ],
 "metadata": {
  "kernelspec": {
   "display_name": "stat386",
   "language": "python",
   "name": "python3"
  },
  "language_info": {
   "codemirror_mode": {
    "name": "ipython",
    "version": 3
   },
   "file_extension": ".py",
   "mimetype": "text/x-python",
   "name": "python",
   "nbconvert_exporter": "python",
   "pygments_lexer": "ipython3",
   "version": "3.10.12"
  }
 },
 "nbformat": 4,
 "nbformat_minor": 2
}
