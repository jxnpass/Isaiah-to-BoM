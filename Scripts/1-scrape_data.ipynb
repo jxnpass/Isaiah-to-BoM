{
 "cells": [
  {
   "cell_type": "code",
   "execution_count": 166,
   "metadata": {},
   "outputs": [],
   "source": [
    "import pandas as pd\n",
    "import requests\n",
    "from bs4 import BeautifulSoup\n",
    "import pdfplumber\n",
    "import re"
   ]
  },
  {
   "cell_type": "code",
   "execution_count": 167,
   "metadata": {},
   "outputs": [],
   "source": [
    "url = \"http://www.creationismonline.com/Mormons/Mormons.html\"\n",
    "r = requests.get(url)\n",
    "soup = BeautifulSoup(r.text, 'html.parser')\n",
    "links = soup.find_all('a')\n",
    "\n",
    "# for link in links:\n",
    "#  print(link.get('href'))\n",
    "# I want http://www.creationismonline.com/Mormons/KJV_Order.pdf and to download it for pdf scraping, so I will access it as so:\n",
    "\n",
    "local_file_path = \"../DirtyData/cross_reference.pdf\"\n",
    "cr_link =  requests.get(links[9].get('href'))\n",
    "with open(local_file_path, \"wb\") as pdf_file:\n",
    "        pdf_file.write(cr_link.content)"
   ]
  },
  {
   "cell_type": "code",
   "execution_count": 168,
   "metadata": {},
   "outputs": [],
   "source": [
    "# reading cross_reference pdf, only looking for Isaiah cross references\n",
    "\n",
    "cr = []\n",
    "\n",
    "with pdfplumber.open(local_file_path) as pdf:\n",
    "    for page in pdf.pages:\n",
    "        pdf_text = page.extract_text()\n",
    "        lines = pdf_text.split('\\n')\n",
    "\n",
    "        for line in lines:\n",
    "            if \"Isaiah\" in line:\n",
    "                cr.append(line)\n",
    "        \n"
   ]
  },
  {
   "cell_type": "code",
   "execution_count": 169,
   "metadata": {},
   "outputs": [],
   "source": [
    "# webscraping from LDS bible dictionary terms\n",
    "bd_df = []\n",
    "\n",
    "bd_url = 'https://www.churchofjesuschrist.org/study/scriptures/bd?lang=eng'\n",
    "r2 = requests.get(bd_url)\n",
    "soup = BeautifulSoup(r2.text, 'html.parser')\n",
    "bd_terms = soup.find_all(class_ = 'title')\n",
    "bd_terms = bd_terms[2:]\n",
    "for term in bd_terms:\n",
    "    bd_df.append(term.text)\n",
    "\n",
    "bd_df = pd.DataFrame(bd_df)\n",
    "bd_df.columns = [\"Term\"]"
   ]
  },
  {
   "cell_type": "code",
   "execution_count": 170,
   "metadata": {},
   "outputs": [
    {
     "name": "stderr",
     "output_type": "stream",
     "text": [
      "/var/folders/rb/6p7v7hb53b9g3qlshh4gmjp40000gn/T/ipykernel_60048/1669895741.py:19: FutureWarning: The default value of regex will change from True to False in a future version.\n",
      "  cr2['Isaiah_chapter'] = cr2['Isaiah_chapter'].str.replace(r'(\\d+)', r' \\1', 1)\n"
     ]
    }
   ],
   "source": [
    "# setting up dataframes\n",
    "\n",
    "cr2 = pd.DataFrame()\n",
    "cr2['Isaiah_chapter'] = []\n",
    "cr2['BoM_chapter'] = []\n",
    "\n",
    "# turning four column table into two columns\n",
    "for row in cr:\n",
    "    parts = row.split()\n",
    "    if \"Isaiah\" in parts[0]:\n",
    "        new_row = {'Isaiah_chapter': parts[0], 'BoM_chapter': parts[1]}\n",
    "        cr2.loc[len(cr2)] = new_row\n",
    "    if \"Isaiah\" in parts[2]:\n",
    "        new_row = {'Isaiah_chapter': parts[2], 'BoM_chapter': parts[3]}\n",
    "        cr2.loc[len(cr2)] = new_row\n",
    "\n",
    "# cleaning string values (separates numbers from name)\n",
    "\n",
    "cr2['Isaiah_chapter'] = cr2['Isaiah_chapter'].str.replace(r'(\\d+)', r' \\1', 1)\n",
    "\n",
    "nrs = []\n",
    "for row in cr2['BoM_chapter']:\n",
    "    if \"Nephi\" in row:\n",
    "        nr = re.sub(r'(\\d)Nephi', r'\\1 Nephi', row)\n",
    "        nr = re.sub(r'(\\d+)', r' \\1', nr, 2)\n",
    "        nr = re.sub(' ', '', nr, 1)\n",
    "        nrs.append(nr)\n",
    "    else:\n",
    "        nr = re.sub(r'(\\d+)', r' \\1', row, 1)\n",
    "        nrs.append(nr)\n",
    "\n",
    "cr2['BoM_chapter'] = nrs"
   ]
  },
  {
   "cell_type": "code",
   "execution_count": 171,
   "metadata": {},
   "outputs": [],
   "source": [
    "cr2.to_csv('../DirtyData/simple_cross_ref.csv')\n",
    "bd_df.to_csv('../CleanData/Bible_Dictionary.csv')"
   ]
  }
 ],
 "metadata": {
  "kernelspec": {
   "display_name": "stat386",
   "language": "python",
   "name": "python3"
  },
  "language_info": {
   "codemirror_mode": {
    "name": "ipython",
    "version": 3
   },
   "file_extension": ".py",
   "mimetype": "text/x-python",
   "name": "python",
   "nbconvert_exporter": "python",
   "pygments_lexer": "ipython3",
   "version": "3.10.12"
  },
  "orig_nbformat": 4
 },
 "nbformat": 4,
 "nbformat_minor": 2
}
