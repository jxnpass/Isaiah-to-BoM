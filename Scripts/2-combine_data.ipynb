{
 "cells": [
  {
   "cell_type": "code",
   "execution_count": 2,
   "metadata": {},
   "outputs": [],
   "source": [
    "import pandas as pd"
   ]
  },
  {
   "cell_type": "code",
   "execution_count": 3,
   "metadata": {},
   "outputs": [],
   "source": [
    "cr = pd.read_csv('../DirtyData/simple_cross_ref.csv', index_col=0)\n",
    "cr_ISH = pd.DataFrame(cr['Isaiah_chapter'])\n",
    "cr_BOM = pd.DataFrame(cr['BoM_chapter'])\n",
    "\n",
    "scripts = pd.read_excel('../DirtyData/lds-scriptures.xlsx')\n"
   ]
  },
  {
   "cell_type": "markdown",
   "metadata": {},
   "source": [
    "## From dataset scripts, I only want verses from Isaiah or the BoM"
   ]
  },
  {
   "cell_type": "code",
   "execution_count": 4,
   "metadata": {},
   "outputs": [],
   "source": [
    "filtered_scripts = scripts[(scripts['book_title'] == \"Isaiah\") | (scripts['volume_short_title'] == \"BoM\")]\n",
    "filtered_scripts = filtered_scripts[['verse_title', 'book_title', 'chapter_number', 'verse_number', 'scripture_text']]"
   ]
  },
  {
   "cell_type": "markdown",
   "metadata": {},
   "source": [
    "## Merging verses to Isaiah-BoM references"
   ]
  },
  {
   "cell_type": "code",
   "execution_count": 5,
   "metadata": {},
   "outputs": [],
   "source": [
    "# Merge references with scripture texts\n",
    "ISH = pd.merge(filtered_scripts[filtered_scripts['book_title'] == \"Isaiah\"], cr, how = 'left', left_on='verse_title', right_on='Isaiah_chapter')\n",
    "full_cr = pd.merge(ISH, filtered_scripts, how = 'left', left_on='BoM_chapter', right_on='verse_title', suffixes=['_ISH','_BOM'])\n",
    "full_cr = full_cr.drop(['Isaiah_chapter','BoM_chapter' ], axis = 1)"
   ]
  },
  {
   "cell_type": "code",
   "execution_count": 6,
   "metadata": {},
   "outputs": [],
   "source": [
    "# I also want the BOM chapters that were not referenced in my dataset\n",
    "unref_BOM = scripts[(~scripts['verse_title'].isin(full_cr['verse_title_BOM'])) & (scripts['volume_title'] == \"Book of Mormon\")]\n",
    "unref_BOM = unref_BOM[['verse_title', 'book_title', 'chapter_number', 'verse_number', 'scripture_text']]\n",
    "unref_BOM = unref_BOM.add_suffix('_BOM')\n",
    "full_cr = pd.merge(full_cr, unref_BOM, how=\"outer\")"
   ]
  },
  {
   "cell_type": "code",
   "execution_count": 7,
   "metadata": {},
   "outputs": [],
   "source": [
    "# Ordered by Isaiah verse, and non-referenced BOM verses found at the bottom \n",
    "full_cr = full_cr.sort_values(by=['chapter_number_ISH', 'verse_number_ISH'], ignore_index=True)"
   ]
  },
  {
   "cell_type": "code",
   "execution_count": 8,
   "metadata": {},
   "outputs": [],
   "source": [
    "full_cr.to_csv('../DirtyData/full_cross_ref.csv', index=False)\n",
    "full_cr.to_excel('../DirtyData/full_cross_ref.xlsx', index=False)"
   ]
  }
 ],
 "metadata": {
  "kernelspec": {
   "display_name": "stat386",
   "language": "python",
   "name": "python3"
  },
  "language_info": {
   "codemirror_mode": {
    "name": "ipython",
    "version": 3
   },
   "file_extension": ".py",
   "mimetype": "text/x-python",
   "name": "python",
   "nbconvert_exporter": "python",
   "pygments_lexer": "ipython3",
   "version": "3.10.12"
  },
  "orig_nbformat": 4
 },
 "nbformat": 4,
 "nbformat_minor": 2
}
